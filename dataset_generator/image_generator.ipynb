{
 "cells": [
  {
   "cell_type": "code",
   "execution_count": 1,
   "metadata": {},
   "outputs": [],
   "source": [
    "import cv2\n",
    "import os\n",
    "import numpy as np\n",
    "\n",
    "OUTPUT_SIZE = (450, 635)\n",
    "OUTPUT_IMAGE_DIR = \"./images\"\n",
    "INPUT_VIDEO_DIR = \"./videos\"\n",
    "NUM_OF_IMAGE_PER_CARD = 50"
   ]
  },
  {
   "cell_type": "code",
   "execution_count": 2,
   "metadata": {},
   "outputs": [],
   "source": [
    "def process_image(image):\n",
    "    _, w, _ = image.shape\n",
    "    cropped = image[:, w // 4:(3 * w) // 4]\n",
    "\n",
    "    blur = cv2.GaussianBlur(cropped,(5,5), 0)\n",
    "\n",
    "    grayscale = cv2.cvtColor(blur, cv2.COLOR_BGR2GRAY)\n",
    "\n",
    "    _, threshold = cv2.threshold(grayscale, 100, 255, cv2.THRESH_BINARY)\n",
    "\n",
    "    x,y,w,h = cv2.boundingRect(threshold)\n",
    "\n",
    "    cropped = cropped[y:y+h, x:x+w]\n",
    "\n",
    "    rescaled = cv2.resize(cropped, OUTPUT_SIZE)\n",
    "\n",
    "    return rescaled"
   ]
  },
  {
   "cell_type": "code",
   "execution_count": 3,
   "metadata": {},
   "outputs": [],
   "source": [
    "def extract_frames(video_path, output_path, num_of_images=NUM_OF_IMAGE_PER_CARD):\n",
    "    os.makedirs(output_path, exist_ok=True)\n",
    "    \n",
    "    cap = cv2.VideoCapture(video_path)\n",
    "    \n",
    "    number_of_frames = int(cap.get(cv2.CAP_PROP_FRAME_COUNT))\n",
    "    random_frames = np.sort(np.random.choice(number_of_frames, num_of_images, replace=False))\n",
    "    \n",
    "    frame_count = 0\n",
    "    saved_frames = 0\n",
    "    while cap.isOpened():\n",
    "        ret, frame = cap.read()\n",
    "        if not ret:\n",
    "            break\n",
    "\n",
    "        if frame_count in random_frames:\n",
    "            processed_frame = process_image(frame)\n",
    "            frame_filename = os.path.join(output_path, f\"card_{saved_frames:02d}.png\")\n",
    "            cv2.imwrite(frame_filename, processed_frame)\n",
    "            saved_frames += 1\n",
    "\n",
    "        frame_count += 1\n",
    "    \n",
    "    cap.release()"
   ]
  },
  {
   "cell_type": "code",
   "execution_count": 4,
   "metadata": {},
   "outputs": [],
   "source": [
    "for decks_dir in os.listdir(INPUT_VIDEO_DIR):\n",
    "    decks_path = os.path.join(INPUT_VIDEO_DIR, decks_dir)\n",
    "    for video_file in os.listdir(decks_path):\n",
    "        video_path = os.path.join(INPUT_VIDEO_DIR, os.path.join(decks_dir, video_file))\n",
    "        output_path = os.path.join(OUTPUT_IMAGE_DIR, os.path.join(decks_dir, video_file))\n",
    "        extract_frames(video_path, output_path)"
   ]
  }
 ],
 "metadata": {
  "kernelspec": {
   "display_name": "JackGPT",
   "language": "python",
   "name": "python3"
  },
  "language_info": {
   "codemirror_mode": {
    "name": "ipython",
    "version": 3
   },
   "file_extension": ".py",
   "mimetype": "text/x-python",
   "name": "python",
   "nbconvert_exporter": "python",
   "pygments_lexer": "ipython3",
   "version": "3.12.9"
  }
 },
 "nbformat": 4,
 "nbformat_minor": 2
}
